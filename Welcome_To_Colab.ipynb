{
  "cells": [
    {
      "cell_type": "markdown",
      "metadata": {
        "id": "view-in-github",
        "colab_type": "text"
      },
      "source": [
        "<a href=\"https://colab.research.google.com/github/Adam12214746/Raspberrypi3_home_security_camera/blob/main/Welcome_To_Colab.ipynb\" target=\"_parent\"><img src=\"https://colab.research.google.com/assets/colab-badge.svg\" alt=\"Open In Colab\"/></a>"
      ]
    },
    {
      "cell_type": "markdown",
      "source": [
        "Optimization"
      ],
      "metadata": {
        "id": "v906Z5uTcNAU"
      }
    },
    {
      "cell_type": "markdown",
      "source": [
        "(1) w ∗ 2x + b; y = 8; w = 3, b = 4, x = 1;\n",
        "\n",
        "1.   List item\n",
        "2.   List item\n",
        "\n",
        "**bold text**"
      ],
      "metadata": {
        "id": "naOdOjPHcizX"
      }
    },
    {
      "cell_type": "code",
      "source": [
        "w = 3\n",
        "b = 4\n",
        "x = 1\n",
        "y = 8\n",
        "def model(w, b, x = x): return w * 2 * x + b"
      ],
      "metadata": {
        "id": "HdXGA-aCcnww"
      },
      "execution_count": 1,
      "outputs": []
    },
    {
      "cell_type": "code",
      "source": [
        "def mse(prediction, answer): return (prediction - answer) ** 2\n",
        "def mae(prediction, answer):\n",
        "  if(prediction - answer) < 0: return(prediction - answer) * -1\n",
        "  else: return (prediction - answer)"
      ],
      "metadata": {
        "id": "2d0gM9PQc-f6"
      },
      "execution_count": 2,
      "outputs": []
    },
    {
      "cell_type": "code",
      "source": [
        "#1step\n",
        "pr1 = model(w, b)\n",
        "loss1 = mse(prediction = pr1, answer=y)\n",
        "print(f\"Prediction: {pr1}\\nLoss(MSE): {loss1} \")\n"
      ],
      "metadata": {
        "id": "eBmbaB1udVhf",
        "outputId": "72274631-9789-4b24-a453-045f738ebe6b",
        "colab": {
          "base_uri": "https://localhost:8080/"
        }
      },
      "execution_count": 3,
      "outputs": [
        {
          "output_type": "stream",
          "name": "stdout",
          "text": [
            "Prediction: 10\n",
            "Loss(MSE): 4 \n"
          ]
        }
      ]
    },
    {
      "cell_type": "code",
      "source": [
        "#2step\n",
        "w2, b2 = w -0.2, b - 0.2\n",
        "pr2 = model(w2, b2)\n",
        "loss2 = mse(prediction=pr2, answer=y)\n",
        "print(f\"Prediction: {pr2}\\nLoss(MSE): {loss2} \")\n"
      ],
      "metadata": {
        "id": "TR26VAM5gPEp",
        "outputId": "65eaf692-326e-4e60-b60b-1ea0dfc1ff34",
        "colab": {
          "base_uri": "https://localhost:8080/"
        }
      },
      "execution_count": 4,
      "outputs": [
        {
          "output_type": "stream",
          "name": "stdout",
          "text": [
            "Prediction: 9.399999999999999\n",
            "Loss(MSE): 1.959999999999996 \n"
          ]
        }
      ]
    },
    {
      "cell_type": "code",
      "source": [
        "#3step\n",
        "w3, b3 = w -0.3, b - 0.3\n",
        "pr3 = model(w3, b3)\n",
        "loss3 = mse(prediction=pr3, answer=y)\n",
        "print(f\"Prediction: {pr3}\\nLoss(MSE): {loss3} \")"
      ],
      "metadata": {
        "id": "HGOzZzjahW0W",
        "outputId": "63756455-b77a-4837-ae1e-1493585430ea",
        "colab": {
          "base_uri": "https://localhost:8080/"
        }
      },
      "execution_count": 6,
      "outputs": [
        {
          "output_type": "stream",
          "name": "stdout",
          "text": [
            "Prediction: 9.100000000000001\n",
            "Loss(MSE): 1.210000000000003 \n"
          ]
        }
      ]
    },
    {
      "cell_type": "code",
      "source": [
        "#4step\n",
        "w4, b4 = w -0.4, b - 0.2\n",
        "pr4 = model(w4, b4)\n",
        "loss4 = mse(prediction=pr4, answer=y)\n",
        "print(f\"Prediction: {pr4}\\nLoss(MSE): {loss4} \")"
      ],
      "metadata": {
        "id": "ZdLnCJQZhxwT",
        "outputId": "f1ec8ac1-aca1-4224-9298-802a10a5b2f4",
        "colab": {
          "base_uri": "https://localhost:8080/"
        }
      },
      "execution_count": 7,
      "outputs": [
        {
          "output_type": "stream",
          "name": "stdout",
          "text": [
            "Prediction: 9.0\n",
            "Loss(MSE): 1.0 \n"
          ]
        }
      ]
    },
    {
      "cell_type": "code",
      "source": [
        "#5step\n",
        "w5, b5 = w -0.5, b - 0.2\n",
        "pr5 = model(w5, b5)\n",
        "loss5 = mse(prediction=pr5, answer=y)\n",
        "print(f\"Prediction: {pr5}\\nLoss(MSE): {loss5} \")"
      ],
      "metadata": {
        "id": "bQ78GkKPiKij",
        "outputId": "ab211f6f-3762-4d88-dbdd-adac297fb200",
        "colab": {
          "base_uri": "https://localhost:8080/"
        }
      },
      "execution_count": 8,
      "outputs": [
        {
          "output_type": "stream",
          "name": "stdout",
          "text": [
            "Prediction: 8.8\n",
            "Loss(MSE): 0.6400000000000011 \n"
          ]
        }
      ]
    },
    {
      "cell_type": "code",
      "source": [
        "#6step\n",
        "w6, b6 = w -0.6, b - 0.2\n",
        "pr6 = model(w6, b6)\n",
        "loss6 = mse(prediction=pr6, answer=y)\n",
        "print(f\"Prediction: {pr6}\\nLoss(MSE): {loss6} \")"
      ],
      "metadata": {
        "id": "KXEiRGGGiVS-",
        "outputId": "e6eed27f-748a-4a8b-846b-9dce1b13d092",
        "colab": {
          "base_uri": "https://localhost:8080/"
        }
      },
      "execution_count": 9,
      "outputs": [
        {
          "output_type": "stream",
          "name": "stdout",
          "text": [
            "Prediction: 8.6\n",
            "Loss(MSE): 0.3599999999999996 \n"
          ]
        }
      ]
    },
    {
      "cell_type": "code",
      "source": [
        "#7step\n",
        "w7, b7 = w -0.7, b - 0.2\n",
        "pr7 = model(w7, b7)\n",
        "loss7 = mse(prediction=pr7, answer=y)\n",
        "print(f\"Prediction: {pr7}\\nLoss(MSE): {loss7} \")"
      ],
      "metadata": {
        "id": "CsxqDin3ikJA",
        "outputId": "537c1d8b-22ca-4aa0-eb8e-4ccab26849f0",
        "colab": {
          "base_uri": "https://localhost:8080/"
        }
      },
      "execution_count": 10,
      "outputs": [
        {
          "output_type": "stream",
          "name": "stdout",
          "text": [
            "Prediction: 8.399999999999999\n",
            "Loss(MSE): 0.15999999999999887 \n"
          ]
        }
      ]
    },
    {
      "cell_type": "code",
      "source": [
        "#8step\n",
        "w8, b8 = w -0.8, b - 0.2\n",
        "pr8 = model(w8, b8)\n",
        "loss8 = mse(prediction=pr8, answer=y)\n",
        "print(f\"Prediction: {pr8}\\nLoss(MSE): {loss8} \")"
      ],
      "metadata": {
        "id": "_NQAlNcNiuzP",
        "outputId": "f92dff81-da99-4ad7-d5bc-affe7d210118",
        "colab": {
          "base_uri": "https://localhost:8080/"
        }
      },
      "execution_count": 11,
      "outputs": [
        {
          "output_type": "stream",
          "name": "stdout",
          "text": [
            "Prediction: 8.2\n",
            "Loss(MSE): 0.039999999999999716 \n"
          ]
        }
      ]
    },
    {
      "cell_type": "code",
      "source": [
        "#9step\n",
        "w9, b9 = w -0.9, b - 0.2\n",
        "pr9 = model(w9, b9)\n",
        "loss9 = mse(prediction=pr9, answer=y)\n",
        "print(f\"Prediction: {pr9}\\nLoss(MSE): {loss9} \")"
      ],
      "metadata": {
        "id": "ANGLttvki6Gl",
        "outputId": "40aa53c8-ead2-408c-feb8-42c549b75847",
        "colab": {
          "base_uri": "https://localhost:8080/"
        }
      },
      "execution_count": 12,
      "outputs": [
        {
          "output_type": "stream",
          "name": "stdout",
          "text": [
            "Prediction: 8.0\n",
            "Loss(MSE): 0.0 \n"
          ]
        }
      ]
    },
    {
      "cell_type": "markdown",
      "source": [
        "**(2) w ∗ 3x − 2b; y = 14; w = −1, b = 5, x = 2**"
      ],
      "metadata": {
        "id": "Se0AJi7ejNWG"
      }
    },
    {
      "cell_type": "code",
      "source": [
        "def model2(w, b, x = 2): return w * 3 * x - 2 * b\n",
        "w21 = - 1\n",
        "b21 = 5\n",
        "y2 = 14"
      ],
      "metadata": {
        "id": "tB2_834fjT7i"
      },
      "execution_count": 13,
      "outputs": []
    },
    {
      "cell_type": "code",
      "source": [
        "#1step\n",
        "pr21 = model2(w21, b21)\n",
        "loss21 = mse(prediction = pr21, answer=y2)\n",
        "print(f\"Prediction: {pr21}\\nLoss(MSE): {loss21} \")"
      ],
      "metadata": {
        "id": "NGPPK4mgkDsk",
        "outputId": "ccf21cf5-783b-4b33-c28d-cec820d169e8",
        "colab": {
          "base_uri": "https://localhost:8080/"
        }
      },
      "execution_count": 14,
      "outputs": [
        {
          "output_type": "stream",
          "name": "stdout",
          "text": [
            "Prediction: -16\n",
            "Loss(MSE): 900 \n"
          ]
        }
      ]
    },
    {
      "cell_type": "code",
      "source": [
        "#2step\n",
        "w22, b22 = w21 + 2, b21 + 2\n",
        "pr22 = model2(w22, b22)\n",
        "loss22 = mse(prediction = pr22, answer=y2)\n",
        "print(f\"Prediction: {pr22}\\nLoss(MSE): {loss22} \")"
      ],
      "metadata": {
        "id": "NbBerK2zkR7Z",
        "outputId": "9580142b-d70d-4233-9150-5f611a48ef7b",
        "colab": {
          "base_uri": "https://localhost:8080/"
        }
      },
      "execution_count": 16,
      "outputs": [
        {
          "output_type": "stream",
          "name": "stdout",
          "text": [
            "Prediction: -8\n",
            "Loss(MSE): 484 \n"
          ]
        }
      ]
    },
    {
      "cell_type": "code",
      "source": [
        "#3step\n",
        "w23, b23 = w21 + 3, b21 + 3\n",
        "pr23 = model2(w23, b23)\n",
        "loss23 = mse(prediction = pr23, answer=y2)\n",
        "print(f\"Prediction: {pr23}\\nLoss(MSE): {loss23} \")"
      ],
      "metadata": {
        "id": "NOTvRyR-k-B_",
        "outputId": "e1399168-fe23-4c1c-a5c8-7501bb0c8d9b",
        "colab": {
          "base_uri": "https://localhost:8080/"
        }
      },
      "execution_count": 17,
      "outputs": [
        {
          "output_type": "stream",
          "name": "stdout",
          "text": [
            "Prediction: -4\n",
            "Loss(MSE): 324 \n"
          ]
        }
      ]
    },
    {
      "cell_type": "code",
      "source": [
        "#4step\n",
        "w24, b24 = w21 + 4, b21 + 4\n",
        "pr24 = model2(w24, b24)\n",
        "loss24 = mse(prediction = pr24, answer=y2)\n",
        "print(f\"Prediction: {pr24}\\nLoss(MSE): {loss24} \")"
      ],
      "metadata": {
        "id": "lS4-ju39lZJS",
        "outputId": "937f2304-bff4-4f06-83c9-7594d47eebf2",
        "colab": {
          "base_uri": "https://localhost:8080/"
        }
      },
      "execution_count": 18,
      "outputs": [
        {
          "output_type": "stream",
          "name": "stdout",
          "text": [
            "Prediction: 0\n",
            "Loss(MSE): 196 \n"
          ]
        }
      ]
    },
    {
      "cell_type": "code",
      "source": [
        "#5step\n",
        "w25, b25 = w21 + 5, b21 + 5\n",
        "pr25 = model2(w25, b25)\n",
        "loss25 = mse(prediction = pr25, answer=y2)\n",
        "print(f\"Prediction: {pr25}\\nLoss(MSE): {loss25} \")"
      ],
      "metadata": {
        "id": "Wf8ISHHblo_x",
        "outputId": "e0cc21de-3611-47ff-fc0b-07e387ea0e3d",
        "colab": {
          "base_uri": "https://localhost:8080/"
        }
      },
      "execution_count": 19,
      "outputs": [
        {
          "output_type": "stream",
          "name": "stdout",
          "text": [
            "Prediction: 4\n",
            "Loss(MSE): 100 \n"
          ]
        }
      ]
    },
    {
      "cell_type": "code",
      "source": [
        "#6step\n",
        "w26, b26 = w21 + 6, b21 + 6\n",
        "pr26 = model2(w26, b26)\n",
        "loss26 = mse(prediction = pr26, answer=y2)\n",
        "print(f\"Prediction: {pr26}\\nLoss(MSE): {loss26} \")"
      ],
      "metadata": {
        "id": "LfPc8JyVl0KE",
        "outputId": "26fc0c6b-ba8a-42b6-b884-7fd4be1340c2",
        "colab": {
          "base_uri": "https://localhost:8080/"
        }
      },
      "execution_count": 20,
      "outputs": [
        {
          "output_type": "stream",
          "name": "stdout",
          "text": [
            "Prediction: 8\n",
            "Loss(MSE): 36 \n"
          ]
        }
      ]
    },
    {
      "cell_type": "code",
      "source": [
        "#7step\n",
        "w27, b27 = w21 + 7, b21 + 7\n",
        "pr27 = model2(w27, b27)\n",
        "loss27 = mse(prediction = pr27, answer=y2)\n",
        "print(f\"Prediction: {pr27}\\nLoss(MSE): {loss27} \")"
      ],
      "metadata": {
        "id": "b64bLflLmA8B",
        "outputId": "57658de8-c48b-49b6-d444-3f4de31346d6",
        "colab": {
          "base_uri": "https://localhost:8080/"
        }
      },
      "execution_count": 21,
      "outputs": [
        {
          "output_type": "stream",
          "name": "stdout",
          "text": [
            "Prediction: 12\n",
            "Loss(MSE): 4 \n"
          ]
        }
      ]
    },
    {
      "cell_type": "code",
      "source": [
        "#8step\n",
        "w28, b28 = w21 + 7.4, b21 + 7.2\n",
        "pr28 = model2(w28, b28)\n",
        "loss28 = mse(prediction = pr28, answer=y2)\n",
        "print(f\"Prediction: {pr28}\\nLoss(MSE): {loss28} \")"
      ],
      "metadata": {
        "id": "uE_N4LurmTOF",
        "outputId": "d418bc47-fbd4-4a9b-cad4-e9f4ea71d221",
        "colab": {
          "base_uri": "https://localhost:8080/"
        }
      },
      "execution_count": 32,
      "outputs": [
        {
          "output_type": "stream",
          "name": "stdout",
          "text": [
            "Prediction: 14.000000000000007\n",
            "Loss(MSE): 5.048709793414476e-29 \n"
          ]
        }
      ]
    },
    {
      "cell_type": "markdown",
      "source": [
        "**(3) w ∗ 5x + 3b; y = 25; w = 2, b = −3, x = 3**"
      ],
      "metadata": {
        "id": "GF8iGNOYnKdc"
      }
    },
    {
      "cell_type": "code",
      "source": [
        "def model3(w, b, x = 3): return w * 5 * x + 3 * b\n",
        "w31 = 2\n",
        "b31 = - 3\n",
        "y3 = 25"
      ],
      "metadata": {
        "id": "auxvFDTanM2a"
      },
      "execution_count": 33,
      "outputs": []
    },
    {
      "cell_type": "code",
      "source": [
        "#1step\n",
        "w31, b31 = w31 + 1, b31 + 1\n",
        "pr31 = model3(w31, b31)\n",
        "loss31 = mse(prediction = pr31, answer=y3)\n",
        "print(f\"Prediction: {pr31}\\nLoss(MSE): {loss31} \")"
      ],
      "metadata": {
        "id": "HclI8SqnntMB",
        "outputId": "d81e7b6f-ad73-41ee-9878-e83934ed0315",
        "colab": {
          "base_uri": "https://localhost:8080/"
        }
      },
      "execution_count": 35,
      "outputs": [
        {
          "output_type": "stream",
          "name": "stdout",
          "text": [
            "Prediction: 171.6\n",
            "Loss(MSE): 21491.559999999998 \n"
          ]
        }
      ]
    },
    {
      "cell_type": "code",
      "source": [
        "#2step\n",
        "w32, b32 = w31 - 2, b31 - 2\n",
        "pr32 = model3(w32, b32)\n",
        "loss32 = mse(prediction = pr32, answer=y3)\n",
        "print(f\"Prediction: {pr32}\\nLoss(MSE): {loss32} \")"
      ],
      "metadata": {
        "id": "00KEkmzMoToG",
        "outputId": "277d1611-ef9d-4975-aeb1-0ca311d7d6e5",
        "colab": {
          "base_uri": "https://localhost:8080/"
        }
      },
      "execution_count": 38,
      "outputs": [
        {
          "output_type": "stream",
          "name": "stdout",
          "text": [
            "Prediction: 135.6\n",
            "Loss(MSE): 12232.359999999999 \n"
          ]
        }
      ]
    },
    {
      "cell_type": "code",
      "source": [
        "#3step\n",
        "w33, b33 = w31 - 3, b31 - 3\n",
        "pr33 = model3(w33, b33)\n",
        "loss33 = mse(prediction = pr33, answer=y3)\n",
        "print(f\"Prediction: {pr33}\\nLoss(MSE): {loss33} \")"
      ],
      "metadata": {
        "id": "_Kx3P2vkow6-",
        "outputId": "69be3bd3-4519-48fc-d31e-59071b2607cc",
        "colab": {
          "base_uri": "https://localhost:8080/"
        }
      },
      "execution_count": 40,
      "outputs": [
        {
          "output_type": "stream",
          "name": "stdout",
          "text": [
            "Prediction: 117.6\n",
            "Loss(MSE): 8574.759999999998 \n"
          ]
        }
      ]
    },
    {
      "cell_type": "code",
      "source": [
        "#4step\n",
        "w34, b34 = w31 - 5, b31 - 5\n",
        "pr34 = model3(w34, b34)\n",
        "loss34 = mse(prediction = pr34, answer=y3)\n",
        "print(f\"Prediction: {pr34}\\nLoss(MSE): {loss34} \")"
      ],
      "metadata": {
        "id": "PgSI_mIqpEB7",
        "outputId": "8635c4ed-7496-4289-a140-635e6819f237",
        "colab": {
          "base_uri": "https://localhost:8080/"
        }
      },
      "execution_count": 41,
      "outputs": [
        {
          "output_type": "stream",
          "name": "stdout",
          "text": [
            "Prediction: 81.6\n",
            "Loss(MSE): 3203.5599999999995 \n"
          ]
        }
      ]
    },
    {
      "cell_type": "code",
      "source": [
        "#5step\n",
        "w35, b35 = w31 - 6, b31 - 6\n",
        "pr35 = model3(w35, b35)\n",
        "loss35 = mse(prediction = pr35, answer=y3)\n",
        "print(f\"Prediction: {pr35}\\nLoss(MSE): {loss35} \")"
      ],
      "metadata": {
        "id": "D8C7gFoDpQPD",
        "outputId": "7f27d6d8-9f14-4b94-9676-65427e809fda",
        "colab": {
          "base_uri": "https://localhost:8080/"
        }
      },
      "execution_count": 42,
      "outputs": [
        {
          "output_type": "stream",
          "name": "stdout",
          "text": [
            "Prediction: 63.6\n",
            "Loss(MSE): 1489.96 \n"
          ]
        }
      ]
    },
    {
      "cell_type": "code",
      "source": [
        "#6step\n",
        "w36, b36 = w31 - 7, b31 - 7\n",
        "pr36 = model3(w36, b36)\n",
        "loss36 = mse(prediction = pr36, answer=y3)\n",
        "print(f\"Prediction: {pr36}\\nLoss(MSE): {loss36} \")"
      ],
      "metadata": {
        "id": "F4UgVaIqpdFI",
        "outputId": "1b1e824e-d4ac-4e8f-a5f1-06b66d8ef2d8",
        "colab": {
          "base_uri": "https://localhost:8080/"
        }
      },
      "execution_count": 43,
      "outputs": [
        {
          "output_type": "stream",
          "name": "stdout",
          "text": [
            "Prediction: 45.6\n",
            "Loss(MSE): 424.36000000000007 \n"
          ]
        }
      ]
    },
    {
      "cell_type": "code",
      "source": [
        "#7step\n",
        "w37, b37 = w31 - 8, b31 - 8\n",
        "pr37 = model3(w37, b37)\n",
        "loss37 = mse(prediction = pr37, answer=y3)\n",
        "print(f\"Prediction: {pr37}\\nLoss(MSE): {loss37} \")"
      ],
      "metadata": {
        "id": "JJLkTNm6pozT",
        "outputId": "1ef5802e-0973-4508-c9b5-7f8e19cb68f0",
        "colab": {
          "base_uri": "https://localhost:8080/"
        }
      },
      "execution_count": 44,
      "outputs": [
        {
          "output_type": "stream",
          "name": "stdout",
          "text": [
            "Prediction: 27.60000000000001\n",
            "Loss(MSE): 6.760000000000044 \n"
          ]
        }
      ]
    },
    {
      "cell_type": "code",
      "source": [
        "#8step\n",
        "w38, b38 = w31 - 8.099999, b31 - 8.29\n",
        "pr38 = model3(w38, b38)\n",
        "loss38 = mse(prediction = pr38, answer=y3)\n",
        "print(f\"Prediction: {pr38}\\nLoss(MSE): {loss38} \")"
      ],
      "metadata": {
        "id": "OmOFcw0HqTCS",
        "outputId": "21b662d8-ba19-4b6c-b8fb-2fc3fa5d9131",
        "colab": {
          "base_uri": "https://localhost:8080/"
        }
      },
      "execution_count": 92,
      "outputs": [
        {
          "output_type": "stream",
          "name": "stdout",
          "text": [
            "Prediction: 25.230015\n",
            "Loss(MSE): 0.052906900225000754 \n"
          ]
        }
      ]
    },
    {
      "cell_type": "markdown",
      "source": [
        "**(4) w ∗ 4x − 3b; y = 40; w = 5, b = −2, x = 1**"
      ],
      "metadata": {
        "id": "wJ0exDA5rhs2"
      }
    },
    {
      "cell_type": "code",
      "source": [
        "def model4(w, b, x = 1): return w * 4 * x  - 3 * b\n",
        "w41 = 5\n",
        "b41 = - 2\n",
        "y4 = 1"
      ],
      "metadata": {
        "id": "7d1SEIRqrk_G"
      },
      "execution_count": 93,
      "outputs": []
    },
    {
      "cell_type": "code",
      "source": [
        "#1step\n",
        "w41, b41 = w41 + 1, b41 + 1\n",
        "pr41 = model4(w41, b41)\n",
        "loss41 = mse(prediction = pr41, answer=y4)\n",
        "print(f\"Prediction: {pr41}\\nLoss(MSE): {loss41} \")"
      ],
      "metadata": {
        "id": "N5uOWNS2r_NK",
        "outputId": "cbae4edd-b1b0-4ae0-e54e-ab53c1529d37",
        "colab": {
          "base_uri": "https://localhost:8080/"
        }
      },
      "execution_count": 94,
      "outputs": [
        {
          "output_type": "stream",
          "name": "stdout",
          "text": [
            "Prediction: 27\n",
            "Loss(MSE): 676 \n"
          ]
        }
      ]
    },
    {
      "cell_type": "code",
      "source": [
        "#2step\n",
        "w42, b42 = w41 - 2, b41 + 2\n",
        "pr42 = model4(w42, b42)\n",
        "loss42 = mse(prediction = pr42, answer=y4)\n",
        "print(f\"Prediction: {pr42}\\nLoss(MSE): {loss42} \")"
      ],
      "metadata": {
        "id": "EAXiJaKEsaue",
        "outputId": "fc48bdff-47db-44c6-bd8a-7108005dc3f0",
        "colab": {
          "base_uri": "https://localhost:8080/"
        }
      },
      "execution_count": 97,
      "outputs": [
        {
          "output_type": "stream",
          "name": "stdout",
          "text": [
            "Prediction: 13\n",
            "Loss(MSE): 144 \n"
          ]
        }
      ]
    },
    {
      "cell_type": "code",
      "source": [
        "#3step\n",
        "w43, b43 = w41 - 3, b41 + 3\n",
        "pr43 = model4(w43, b43)\n",
        "loss43 = mse(prediction = pr43, answer=y4)\n",
        "print(f\"Prediction: {pr43}\\nLoss(MSE): {loss43} \")"
      ],
      "metadata": {
        "id": "yu6rMrJessH3",
        "outputId": "6a61165c-3f42-47b4-fe58-f7419d388e68",
        "colab": {
          "base_uri": "https://localhost:8080/"
        }
      },
      "execution_count": 98,
      "outputs": [
        {
          "output_type": "stream",
          "name": "stdout",
          "text": [
            "Prediction: 6\n",
            "Loss(MSE): 25 \n"
          ]
        }
      ]
    },
    {
      "cell_type": "code",
      "source": [
        "#4step\n",
        "w44, b44 = w41 - 3.79, b41 + 3.599\n",
        "pr44 = model4(w44, b44)\n",
        "loss44 = mse(prediction = pr44, answer=y4)\n",
        "print(f\"Prediction: {pr44}\\nLoss(MSE): {loss44} \")"
      ],
      "metadata": {
        "id": "2EjQLslls8ZE",
        "outputId": "b48d5820-8e36-4b7e-cda9-09d68f1aaf83",
        "colab": {
          "base_uri": "https://localhost:8080/"
        }
      },
      "execution_count": 136,
      "outputs": [
        {
          "output_type": "stream",
          "name": "stdout",
          "text": [
            "Prediction: 1.0429999999999993\n",
            "Loss(MSE): 0.0018489999999999364 \n"
          ]
        }
      ]
    },
    {
      "cell_type": "markdown",
      "source": [
        "**(5) w ∗ x + b; y = 50; w = 10, b = −5, x = 4.**"
      ],
      "metadata": {
        "id": "aK3UQ_9Ut7e1"
      }
    },
    {
      "cell_type": "code",
      "source": [
        "def model5(w, b, x = 4): return w * x + b\n",
        "w51 = 10\n",
        "b51 = -5\n",
        "y5 = 50"
      ],
      "metadata": {
        "id": "LmyRMbMVt_gR"
      },
      "execution_count": 137,
      "outputs": []
    },
    {
      "cell_type": "code",
      "source": [
        "#1step\n",
        "w51, b51 = w51 + 1, b51 + 1\n",
        "pr51 = model5(w51, b51)\n",
        "loss51 = mse(prediction = pr51, answer=y5)\n",
        "print(f\"Prediction: {pr51}\\nLoss(MSE): {loss51} \")"
      ],
      "metadata": {
        "id": "dArJb6yIuWNJ",
        "outputId": "8677e42b-d0de-4809-b592-21217cd8bc76",
        "colab": {
          "base_uri": "https://localhost:8080/"
        }
      },
      "execution_count": 138,
      "outputs": [
        {
          "output_type": "stream",
          "name": "stdout",
          "text": [
            "Prediction: 40\n",
            "Loss(MSE): 100 \n"
          ]
        }
      ]
    },
    {
      "cell_type": "code",
      "source": [
        "#2step\n",
        "w52, b52 = w51 + 2, b51 + 2\n",
        "pr52 = model5(w52, b52)\n",
        "loss52 = mse(prediction = pr52, answer=y5)\n",
        "print(f\"Prediction: {pr52}\\nLoss(MSE): {loss52} \")"
      ],
      "metadata": {
        "id": "khZr0ewoukgB",
        "outputId": "00ac03ca-c19b-468a-a194-662230ef9dd6",
        "colab": {
          "base_uri": "https://localhost:8080/"
        }
      },
      "execution_count": 139,
      "outputs": [
        {
          "output_type": "stream",
          "name": "stdout",
          "text": [
            "Prediction: 50\n",
            "Loss(MSE): 0 \n"
          ]
        }
      ]
    }
  ],
  "metadata": {
    "colab": {
      "name": "Welcome To Colab",
      "provenance": [],
      "include_colab_link": true
    },
    "kernelspec": {
      "display_name": "Python 3",
      "name": "python3"
    }
  },
  "nbformat": 4,
  "nbformat_minor": 0
}